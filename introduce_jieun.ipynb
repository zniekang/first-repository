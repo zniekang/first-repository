{
 "cells": [
  {
   "cell_type": "markdown",
   "metadata": {},
   "source": [
    "# 자기소개.\n",
    "---\n",
    "\n",
    "안녕하세요 여러분!\n",
    "**강지은**이라고 합니다.\n",
    "\n",
    "- 파이썬은 독학해서 간단한 크롤링할 수 있을 정도로만 살짝 다뤄봤었는데 이번 기회로 체계적으로 배워볼 수 있어서 기쁩니다!\n",
    "\n",
    "- 마크다운 너무 좋아요! 예쁘고 간단하고 ㅎㅎㅎ \n",
    "- 그래서 마크다운 쓸 수 있는 노션도 제 최애 툴이에요 &#128522;&#128526; \n",
    "\n",
    "\n",
    "\n",
    "# 이미지 삽입.\n",
    "---\n",
    "\n",
    "1. github issue에 이미지를 올려서 자동반환된 경로 사용하기\n",
    "2. 상대경로로 표시하기\n",
    "<img src=\"https://user-images.githubusercontent.com/60685130/92300590-146cdb80-ef97-11ea-821b-7ef885bb70c4.png\">\n",
    "\n",
    "\n",
    "(다솔퍼실님) github issue에 이미지 올린 후 자동반환된 경로 사용\n",
    "![삼색이](https://user-images.githubusercontent.com/60685130/92300185-db7f3780-ef93-11ea-9d01-9bfc4591e087.png)\n",
    "\n",
    "(호민퍼실님) github issue에 올린 이미지를 img src=\"경로\" 태그로 표시해보기\n",
    "<img src=\"https://user-images.githubusercontent.com/60685130/92300185-db7f3780-ef93-11ea-9d01-9bfc4591e087.png\" style=\"width:300px;\">\n",
    "\n",
    "\n",
    "(호민퍼실님) 상대경로로 이미지 표시해보기\n",
    "![삼색이](./사진/삼색이.png)\n",
    "\n",
    "\n",
    "\n",
    "# 이모티콘 사용하기.\n",
    "---\n",
    "\n",
    "### Ubuntu Linux\n",
    "- ubuntu 이모티콘 단축키 : **ctrl + .** (윈도우는 window + .)\n",
    "\n",
    "### Jupyter notebook\n",
    "- (마크다운 셀에서) https://steemit.com/emojis/@blueorgy/steemit-emojis-master-list 에서 복붙 -> &#128540;\n",
    "- (코드 셀에서) https://medium.com/@sawanrai777/have-fun-with-emojis-in-jupyter-notebook-f74db7f45210\n",
    "    * conda activate datascience\n",
    "    * pip install emoji --upgrade\n",
    "    \n",
    "    \n"
   ]
  },
  {
   "cell_type": "code",
   "execution_count": 34,
   "metadata": {},
   "outputs": [
    {
     "name": "stdout",
     "output_type": "stream",
     "text": [
      "크 이모티콘🕶 짜릿하다! 👍 🔥\n",
      "🐤 🐍 🐦 🐜 🔔\n",
      ":heart: 이건 안되네\n"
     ]
    }
   ],
   "source": [
    "import emoji\n",
    "print(emoji.emojize('크 이모티콘:sunglasses: 짜릿하다! :thumbs_up: :fire:'))\n",
    "\n",
    "print(emoji.emojize(':baby_chick: :snake: :bird: :ant: :bell:'))\n",
    "\n",
    "print(emoji.emojize(':heart: 이건 안되네'))"
   ]
  },
  {
   "cell_type": "code",
   "execution_count": null,
   "metadata": {},
   "outputs": [],
   "source": []
  }
 ],
 "metadata": {
  "kernelspec": {
   "display_name": "datascience",
   "language": "python",
   "name": "datascience"
  },
  "language_info": {
   "codemirror_mode": {
    "name": "ipython",
    "version": 3
   },
   "file_extension": ".py",
   "mimetype": "text/x-python",
   "name": "python",
   "nbconvert_exporter": "python",
   "pygments_lexer": "ipython3",
   "version": "3.8.5"
  }
 },
 "nbformat": 4,
 "nbformat_minor": 4
}
